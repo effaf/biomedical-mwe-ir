{
 "cells": [
  {
   "cell_type": "code",
   "execution_count": null,
   "metadata": {},
   "outputs": [],
   "source": [
    "! pip install elasticsearch=7.6.0"
   ]
  },
  {
   "cell_type": "code",
   "execution_count": 1,
   "metadata": {},
   "outputs": [],
   "source": [
    "# Import packages \n",
    "try:\n",
    "    import pandas as pd\n",
    "    import numpy as np\n",
    "    import elasticsearch\n",
    "    from elasticsearch import Elasticsearch\n",
    "    from elasticsearch import helpers\n",
    "    import os\n",
    "    \n",
    "except Exception as e:\n",
    "    print(e)"
   ]
  },
  {
   "cell_type": "code",
   "execution_count": 2,
   "metadata": {},
   "outputs": [],
   "source": [
    "# Connect to your elastic search instance. Follow Appendix A\n",
    "es = Elasticsearch(hosts = [{\"host\":\"localhost\", \"port\":9200, \"scheme\" : \"http\"}], timeout=40)"
   ]
  },
  {
   "cell_type": "code",
   "execution_count": 3,
   "metadata": {},
   "outputs": [
    {
     "data": {
      "text/plain": [
       "True"
      ]
     },
     "execution_count": 3,
     "metadata": {},
     "output_type": "execute_result"
    }
   ],
   "source": [
    "# Test your connection\n",
    "es.ping()"
   ]
  },
  {
   "cell_type": "code",
   "execution_count": 8,
   "metadata": {},
   "outputs": [],
   "source": [
    "# Configure Elasticsearch\n",
    "Settings = {\n",
    "    \"settings\": {\n",
    "        \"number_of_shards\": 1,\n",
    "        \"number_of_replicas\": 0,\n",
    "        \"analysis\": {\n",
    "            \"analyzer\": {\n",
    "                \"custom_analyzer\": {\n",
    "                    \"type\":\"custom\",\n",
    "                    \"tokenizer\": \"whitespace\",\n",
    "                    \"filter\": [\"lowercase\",\"kstem\"]\n",
    "                }\n",
    "            }, \n",
    "            \"filter\":{\n",
    "                \"kstem\": {\n",
    "                    \"type\":\"kstem\"\n",
    "                }\n",
    "            }\n",
    "        }\n",
    "    }, \n",
    "  \"mappings\": {\n",
    "    \"properties\": {\n",
    "      \"ArticleTitle\": {\n",
    "        \"type\": \"text\",\n",
    "        \"analyzer\": \"custom_analyzer\"\n",
    "      },\n",
    "      \"AbstractText\":{\n",
    "          \"type\":\"text\",\n",
    "          \"analyzer\":\"custom_analyzer\"\n",
    "      },\n",
    "      \"PMID\":{\n",
    "          \"type\": \"keyword\",\n",
    "          \"index\": \"false\"\n",
    "      }\n",
    "    }\n",
    "  }\n",
    "}"
   ]
  },
  {
   "cell_type": "code",
   "execution_count": 9,
   "metadata": {},
   "outputs": [
    {
     "data": {
      "text/plain": [
       "{'acknowledged': True, 'shards_acknowledged': True, 'index': 'genomicsindex'}"
      ]
     },
     "execution_count": 9,
     "metadata": {},
     "output_type": "execute_result"
    }
   ],
   "source": [
    "#Create the index\n",
    "es.indices.create(index='genomicsindex', ignore= [400,404], body=Settings)"
   ]
  },
  {
   "cell_type": "code",
   "execution_count": 12,
   "metadata": {},
   "outputs": [
    {
     "name": "stdout",
     "output_type": "stream",
     "text": [
      ".kibana_task_manager_1\n",
      "genomicsindex\n",
      ".kibana_1\n",
      ".apm-agent-configuration\n"
     ]
    }
   ],
   "source": [
    "# Check the index\n",
    "indices = es.indices.get_alias(\"*\")\n",
    "for index in indices:\n",
    "    print(index)"
   ]
  },
  {
   "cell_type": "code",
   "execution_count": 4,
   "metadata": {},
   "outputs": [],
   "source": [
    "# OR query generator\n",
    "def generate_or_query(user_query):\n",
    "    # Assuming 'text' is the field you want to search on\n",
    "    query = {\n",
    "        \"size\":30,\n",
    "        \"query\": {\n",
    "            \"query_string\": {\n",
    "                \"default_field\": \"AbstractText\",\n",
    "                \"query\": user_query\n",
    "            }\n",
    "        }\n",
    "    }\n",
    "    return query\n"
   ]
  },
  {
   "cell_type": "code",
   "execution_count": 5,
   "metadata": {},
   "outputs": [],
   "source": [
    "# Contruct MWE query\n",
    "def construct_mwe_query(query, mwe):\n",
    "    # Remove multi-words from the query\n",
    "    \n",
    "    for multi_word in mwe:\n",
    "        query = query.replace(multi_word, \"\")\n",
    "\n",
    "    # Split the remaining query into terms\n",
    "    terms = query.split()\n",
    "\n",
    "    match_clauses = [\n",
    "        {\"match\": {\"AbstractText\": term}} for term in terms\n",
    "    ]\n",
    "\n",
    "    match_phrase_clauses = [\n",
    "        {\"match_phrase\": {\"AbstractText\": multi_word}} for multi_word in mwe\n",
    "    ]\n",
    "\n",
    "    bool_query = {\"bool\": {\"should\": match_clauses + match_phrase_clauses}}\n",
    "\n",
    "    return {\"size\": 30, \"query\": bool_query}\n",
    "\n",
    "\n"
   ]
  },
  {
   "cell_type": "code",
   "execution_count": 6,
   "metadata": {},
   "outputs": [],
   "source": [
    "# Elastic search result function. We will call this to fetch the results from index\n",
    "def pretty_response(response):\n",
    "    result = []\n",
    "    if len(response[\"hits\"][\"hits\"]) == 0:\n",
    "        print(\"Your search returned no results.\")\n",
    "    else:\n",
    "        print(\"Length: \", len(response[\"hits\"][\"hits\"]))\n",
    "        for hit in response[\"hits\"][\"hits\"]:\n",
    "            id = hit[\"_id\"]\n",
    "            score = hit[\"_score\"]\n",
    "            PMID = hit[\"_source\"][\"PMID\"]\n",
    "            result.append({\"PMID\": PMID, \"score\":score, \"id\":id})\n",
    "            # pretty_output = f\"\\nID: {id}\\nPMID: {PMID}\\nScore: {score}\"\n",
    "        return result"
   ]
  },
  {
   "cell_type": "code",
   "execution_count": 7,
   "metadata": {},
   "outputs": [
    {
     "name": "stdout",
     "output_type": "stream",
     "text": [
      "{'size': 30, 'query': {'bool': {'should': [{'match': {'AbstractText': 'generate'}}, {'match_phrase': {'AbstractText': 'transgenic mice'}}]}}}\n",
      "{'size': 30, 'query': {'query_string': {'default_field': 'AbstractText', 'query': 'generate transgenic mice'}}}\n"
     ]
    }
   ],
   "source": [
    "# Enter query and the MWE present in it\n",
    "query = \"generate transgenic mice\"\n",
    "mwe = [\"transgenic mice\"]\n",
    "mwe_query = construct_mwe_query(query, mwe)\n",
    "regular_query = generate_or_query(query)\n",
    "print(mwe_query)\n",
    "print(regular_query)"
   ]
  },
  {
   "cell_type": "code",
   "execution_count": 12,
   "metadata": {},
   "outputs": [],
   "source": [
    "# Search the index\n",
    "response = es.search(index=\"genomicsindex\", body=mwe_query)\n",
    "response = es.search(index=\"genomicsindex\", body=regular_query)"
   ]
  },
  {
   "cell_type": "code",
   "execution_count": 7,
   "metadata": {},
   "outputs": [],
   "source": [
    "# Get the results\n",
    "def getResult(response):\n",
    "    result = pretty_response(response)\n",
    "    result_PMID = {}\n",
    "    for docs in result:\n",
    "        result_PMID[docs[\"PMID\"]] = { \"id\": docs[\"id\"], \"score\": docs[\"score\"] }\n",
    "        \n",
    "    return result_PMID"
   ]
  }
 ],
 "metadata": {
  "kernelspec": {
   "display_name": "Python 3 (ipykernel)",
   "language": "python",
   "name": "python3"
  },
  "language_info": {
   "codemirror_mode": {
    "name": "ipython",
    "version": 3
   },
   "file_extension": ".py",
   "mimetype": "text/x-python",
   "name": "python",
   "nbconvert_exporter": "python",
   "pygments_lexer": "ipython3",
   "version": "3.12.1"
  }
 },
 "nbformat": 4,
 "nbformat_minor": 4
}
